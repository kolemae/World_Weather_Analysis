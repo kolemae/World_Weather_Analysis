{
 "cells": [
  {
   "cell_type": "code",
   "execution_count": 1,
   "id": "65b278bf",
   "metadata": {},
   "outputs": [],
   "source": [
    "import requests as req\n",
    "from config import weather_api_key"
   ]
  },
  {
   "cell_type": "code",
   "execution_count": 2,
   "id": "8754274e",
   "metadata": {},
   "outputs": [],
   "source": [
    "url = \"https://api.openweathermap.org/data/2.5/weather?units=Imperial&APPID=\" + weather_api_key"
   ]
  },
  {
   "cell_type": "code",
   "execution_count": 3,
   "id": "b8cf845a",
   "metadata": {},
   "outputs": [],
   "source": [
    "# test error in NY\n",
    "cities = [\"Pittsburgh\", \"Austin\", \"New  York\", \"Los Angeles\", \"Seattle\"]"
   ]
  },
  {
   "cell_type": "code",
   "execution_count": 5,
   "id": "c24c0bc2",
   "metadata": {},
   "outputs": [
    {
     "name": "stdout",
     "output_type": "stream",
     "text": [
      "It's currently 67.55 degrees in Pittsburgh.\n",
      "It's currently 84.38 degrees in Austin.\n",
      "KeyError received for New  York.\n",
      "It's currently 84.38 degrees in New  York.\n",
      "It's currently 72.25 degrees in Los Angeles.\n",
      "It's currently 52.41 degrees in Seattle.\n"
     ]
    }
   ],
   "source": [
    "for city in cities:\n",
    "    try:\n",
    "        city_url = url + \"&q=\" + city\n",
    "        weather = req.get(city_url).json()\n",
    "        temp = weather[\"main\"][\"temp\"]\n",
    "    except KeyError:\n",
    "        print(\"KeyError received for \" + city + \".\")\n",
    "    print(\"It's currently \" + str(temp) + \" degrees in \" + city + \".\")"
   ]
  },
  {
   "cell_type": "code",
   "execution_count": null,
   "id": "3b320a00",
   "metadata": {},
   "outputs": [],
   "source": []
  }
 ],
 "metadata": {
  "kernelspec": {
   "display_name": "Python 3 (ipykernel)",
   "language": "python",
   "name": "python3"
  },
  "language_info": {
   "codemirror_mode": {
    "name": "ipython",
    "version": 3
   },
   "file_extension": ".py",
   "mimetype": "text/x-python",
   "name": "python",
   "nbconvert_exporter": "python",
   "pygments_lexer": "ipython3",
   "version": "3.7.11"
  }
 },
 "nbformat": 4,
 "nbformat_minor": 5
}
